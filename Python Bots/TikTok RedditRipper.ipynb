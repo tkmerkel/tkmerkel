{
 "cells": [
  {
   "cell_type": "code",
   "execution_count": 59,
   "metadata": {},
   "outputs": [],
   "source": [
    "import pandas as pd\n",
    "import praw\n",
    "import youtube_dl\n",
    "import moviepy\n",
    "import datetime\n",
    "import pytz\n",
    "import pprint"
   ]
  },
  {
   "cell_type": "code",
   "execution_count": 2,
   "metadata": {},
   "outputs": [],
   "source": [
    "reddit = praw.Reddit(client_id='UQ1LncUZEED5Rg',\n",
    "                     client_secret='dPnlr0vVnaNf6fsInBaCKWYZxJ4', \n",
    "                     password='Sluh2005!',\n",
    "                     user_agent='honey', \n",
    "                     username='Sluhzer')"
   ]
  },
  {
   "cell_type": "code",
   "execution_count": 60,
   "metadata": {},
   "outputs": [],
   "source": [
    "output_df = pd.DataFrame()\n",
    "\n",
    "tz = pytz.timezone('America/New_York')\n",
    "\n",
    "subreddit_list = ['IdiotsInCars', 'PublicFreakout', 'Cringetopia']\n",
    "\n",
    "for subreddit in subreddit_list:\n",
    "    for submission in reddit.subreddit(subreddit).hot(limit=15):\n",
    "        try:\n",
    "            red_vid = list(submission.media.keys())[0]\n",
    "        except:\n",
    "            continue\n",
    "        if red_vid != 'reddit_video':\n",
    "            continue\n",
    "        #pprint.pprint(vars(submission))\n",
    "        #if submission.link_flair_text == 'Highlight':\n",
    "        utc_dt = datetime.datetime.utcfromtimestamp(submission.created).replace(tzinfo=pytz.utc) - datetime.timedelta(hours=9)\n",
    "        timestamp = utc_dt.astimezone(tz)\n",
    "        #timestamp = datetime.datetime.fromtimestamp(submission.created, tz)\n",
    "        data = {'Date': [timestamp.strftime('%Y-%m-%d %H:%M:%S')],\n",
    "                'Author': [submission.author],\n",
    "                'Title': [submission.title],\n",
    "                'Text': [submission.selftext],\n",
    "                'Score': [submission.score],\n",
    "                'Upvote Ratio': [submission.upvote_ratio],\n",
    "                'URL': [submission.url],\n",
    "                'RedVid': [red_vid]}\n",
    "\n",
    "        new_data_df = pd.DataFrame(data, index=None)\n",
    "        output_df = pd.concat([new_data_df, output_df], sort=True)\n",
    "        output_df['Composite'] = output_df['Score'] * output_df['Upvote Ratio']\n",
    "        output_df.sort_values(by=['Composite'], inplace=True, ascending=False)\n",
    "\n",
    "url_list = output_df['URL'].to_list()"
   ]
  },
  {
   "cell_type": "code",
   "execution_count": 61,
   "metadata": {},
   "outputs": [],
   "source": [
    "url_list = output_df.loc[output_df['Score'] > 3000]['URL'].to_list()"
   ]
  },
  {
   "cell_type": "code",
   "execution_count": 62,
   "metadata": {},
   "outputs": [
    {
     "data": {
      "text/plain": [
       "['Cop accidentally shoots suspect with gun instead of deploying taser.',\n",
       " \"Some people can't stand getting honked at. If you're gonna brake check someone, don't do it so far away.\",\n",
       " '\"Not friendly!\"',\n",
       " 'Dating OF Model.',\n",
       " \"People just can't drive\",\n",
       " 'This idiot.',\n",
       " 'This boy has a phobia of needles, however he was responsible and got vaccinated.',\n",
       " 'Another New York Moment',\n",
       " 'Twitter person justifies holocaust',\n",
       " 'WHITE BOY SUMMER',\n",
       " 'Gordon Ramsay meets his match.',\n",
       " 'All of their Yelp reviews are about their drivers.',\n",
       " \"Or they're just normal...\",\n",
       " '80,000 people at Nissan Stadium for the Garth Brooks concert, forced to pack in together attempting shelter, because of lightning, heavy winds, and rain last night. It was a nightmare.']"
      ]
     },
     "execution_count": 62,
     "metadata": {},
     "output_type": "execute_result"
    }
   ],
   "source": [
    "title_list = output_df.loc[output_df['Score'] > 3000]['Title'].to_list()\n",
    "title_list"
   ]
  },
  {
   "cell_type": "code",
   "execution_count": 23,
   "metadata": {},
   "outputs": [
    {
     "data": {
      "text/plain": [
       "'reddit_video'"
      ]
     },
     "execution_count": 23,
     "metadata": {},
     "output_type": "execute_result"
    }
   ],
   "source": [
    "list(wth)[0]"
   ]
  },
  {
   "cell_type": "code",
   "execution_count": null,
   "metadata": {},
   "outputs": [],
   "source": []
  },
  {
   "cell_type": "code",
   "execution_count": 63,
   "metadata": {},
   "outputs": [
    {
     "name": "stdout",
     "output_type": "stream",
     "text": [
      "[Reddit] bhfa83v08qe71: Downloading m3u8 information\n",
      "[Reddit] bhfa83v08qe71: Downloading MPD manifest\n",
      "[download] Destination: bhfa83v08qe71-bhfa83v08qe71.fdash-video_2312021.mp4\n",
      "[download] 100% of 4.56MiB in 00:00                   \n",
      "[download] Destination: bhfa83v08qe71-bhfa83v08qe71.fdash-audio_0_131917.m4a\n",
      "[download] 100% of 266.43KiB in 00:00                  \n",
      "[ffmpeg] Merging formats into \"bhfa83v08qe71-bhfa83v08qe71.mp4\"\n",
      "Deleting original file bhfa83v08qe71-bhfa83v08qe71.fdash-video_2312021.mp4 (pass -k to keep)\n",
      "Deleting original file bhfa83v08qe71-bhfa83v08qe71.fdash-audio_0_131917.m4a (pass -k to keep)\n",
      "[Reddit] eec5y7bhxqe71: Downloading m3u8 information\n",
      "[Reddit] eec5y7bhxqe71: Downloading MPD manifest\n",
      "[download] Destination: eec5y7bhxqe71-eec5y7bhxqe71.fdash-video_2428155.mp4\n",
      "[download] 100% of 8.15MiB in 00:00                  \n",
      "[download] Destination: eec5y7bhxqe71-eec5y7bhxqe71.fdash-audio_0_131764.m4a\n",
      "[download] 100% of 453.42KiB in 00:00                  \n",
      "[ffmpeg] Merging formats into \"eec5y7bhxqe71-eec5y7bhxqe71.mp4\"\n",
      "Deleting original file eec5y7bhxqe71-eec5y7bhxqe71.fdash-video_2428155.mp4 (pass -k to keep)\n",
      "Deleting original file eec5y7bhxqe71-eec5y7bhxqe71.fdash-audio_0_131764.m4a (pass -k to keep)\n",
      "[Reddit] 11ycvilqcre71: Downloading m3u8 information\n",
      "[Reddit] 11ycvilqcre71: Downloading MPD manifest\n",
      "[download] Destination: 11ycvilqcre71-11ycvilqcre71.fdash-video_1139913.mp4\n",
      "[download] 100% of 2.80MiB in 00:00                  \n",
      "[download] Destination: 11ycvilqcre71-11ycvilqcre71.fdash-audio_0_132877.m4a\n",
      "[download] 100% of 336.09KiB in 00:00                  \n",
      "[ffmpeg] Merging formats into \"11ycvilqcre71-11ycvilqcre71.mp4\"\n",
      "Deleting original file 11ycvilqcre71-11ycvilqcre71.fdash-video_1139913.mp4 (pass -k to keep)\n",
      "Deleting original file 11ycvilqcre71-11ycvilqcre71.fdash-audio_0_132877.m4a (pass -k to keep)\n",
      "[Reddit] 45dxd48jaqe71: Downloading m3u8 information\n",
      "[Reddit] 45dxd48jaqe71: Downloading MPD manifest\n",
      "[download] Destination: 45dxd48jaqe71-45dxd48jaqe71.fdash-video_2341272.mp4\n",
      "[download] 100% of 4.00MiB in 00:00                  \n",
      "[download] Destination: 45dxd48jaqe71-45dxd48jaqe71.fdash-audio_0_132515.m4a\n",
      "[download] 100% of 232.55KiB in 00:00                  \n",
      "[ffmpeg] Merging formats into \"45dxd48jaqe71-45dxd48jaqe71.mp4\"\n",
      "Deleting original file 45dxd48jaqe71-45dxd48jaqe71.fdash-video_2341272.mp4 (pass -k to keep)\n",
      "Deleting original file 45dxd48jaqe71-45dxd48jaqe71.fdash-audio_0_132515.m4a (pass -k to keep)\n",
      "[Reddit] bmfvgfdoose71: Downloading m3u8 information\n",
      "[Reddit] bmfvgfdoose71: Downloading MPD manifest\n",
      "[hlsnative] Downloading m3u8 manifest\n",
      "[hlsnative] Total fragments: 3\n",
      "[download] Destination: bmfvgfdoose71-bmfvgfdoose71.fhls-1540.mp4\n",
      "[download] 100% of 2.79MiB in 00:01                   \n",
      "[download] Destination: bmfvgfdoose71-bmfvgfdoose71.fdash-audio_0_120288.m4a\n",
      "[download] 100% of 245.21KiB in 00:00                  \n",
      "[ffmpeg] Merging formats into \"bmfvgfdoose71-bmfvgfdoose71.mp4\"\n",
      "Deleting original file bmfvgfdoose71-bmfvgfdoose71.fhls-1540.mp4 (pass -k to keep)\n",
      "Deleting original file bmfvgfdoose71-bmfvgfdoose71.fdash-audio_0_120288.m4a (pass -k to keep)\n",
      "[Reddit] 1dmlxcvqype71: Downloading m3u8 information\n",
      "[Reddit] 1dmlxcvqype71: Downloading MPD manifest\n",
      "[download] Destination: 1dmlxcvqype71-1dmlxcvqype71.fdash-video_2366071.mp4\n",
      "[download] 100% of 2.48MiB in 00:00                  \n",
      "[download] Destination: 1dmlxcvqype71-1dmlxcvqype71.fdash-audio_0_132685.m4a\n",
      "[download] 100% of 142.68KiB in 00:00                  \n",
      "[ffmpeg] Merging formats into \"1dmlxcvqype71-1dmlxcvqype71.mp4\"\n",
      "Deleting original file 1dmlxcvqype71-1dmlxcvqype71.fdash-video_2366071.mp4 (pass -k to keep)\n",
      "Deleting original file 1dmlxcvqype71-1dmlxcvqype71.fdash-audio_0_132685.m4a (pass -k to keep)\n",
      "[Reddit] zbkwm44ogoe71: Downloading m3u8 information\n",
      "[Reddit] zbkwm44ogoe71: Downloading MPD manifest\n",
      "[download] Destination: zbkwm44ogoe71-zbkwm44ogoe71.fdash-video_2346753.mp4\n",
      "[download] 100% of 27.77MiB in 00:01                  \n",
      "[download] Destination: zbkwm44ogoe71-zbkwm44ogoe71.fdash-audio_0_130407.m4a\n",
      "[download] 100% of 1.53MiB in 00:00                  \n",
      "[ffmpeg] Merging formats into \"zbkwm44ogoe71-zbkwm44ogoe71.mp4\"\n",
      "Deleting original file zbkwm44ogoe71-zbkwm44ogoe71.fdash-video_2346753.mp4 (pass -k to keep)\n",
      "Deleting original file zbkwm44ogoe71-zbkwm44ogoe71.fdash-audio_0_130407.m4a (pass -k to keep)\n",
      "[Reddit] zokfapb74re71: Downloading m3u8 information\n",
      "[Reddit] zokfapb74re71: Downloading MPD manifest\n",
      "[download] Destination: zokfapb74re71-zokfapb74re71.fdash-video_2475577.mp4\n",
      "[download] 100% of 5.78MiB in 00:00                  \n",
      "[download] Destination: zokfapb74re71-zokfapb74re71.fdash-audio_0_132118.m4a\n",
      "[download] 100% of 316.97KiB in 00:00                  \n",
      "[ffmpeg] Merging formats into \"zokfapb74re71-zokfapb74re71.mp4\"\n",
      "Deleting original file zokfapb74re71-zokfapb74re71.fdash-video_2475577.mp4 (pass -k to keep)\n",
      "Deleting original file zokfapb74re71-zokfapb74re71.fdash-audio_0_132118.m4a (pass -k to keep)\n",
      "[Reddit] zp10njgiase71: Downloading m3u8 information\n",
      "[Reddit] zp10njgiase71: Downloading MPD manifest\n",
      "[download] Destination: zp10njgiase71-zp10njgiase71.fdash-video_1965303.mp4\n",
      "[download] 100% of 9.64MiB in 00:00                  \n",
      "[download] Destination: zp10njgiase71-zp10njgiase71.fdash-audio_0_128742.m4a\n",
      "[download] 100% of 647.54KiB in 00:00                   \n",
      "[ffmpeg] Merging formats into \"zp10njgiase71-zp10njgiase71.mp4\"\n",
      "Deleting original file zp10njgiase71-zp10njgiase71.fdash-video_1965303.mp4 (pass -k to keep)\n",
      "Deleting original file zp10njgiase71-zp10njgiase71.fdash-audio_0_128742.m4a (pass -k to keep)\n",
      "[Reddit] xcf6t7af2se71: Downloading m3u8 information\n",
      "[Reddit] xcf6t7af2se71: Downloading MPD manifest\n",
      "[download] Destination: xcf6t7af2se71-xcf6t7af2se71.fdash-video_2421476.mp4\n",
      "[download] 100% of 10.91MiB in 00:00                  \n",
      "[download] Destination: xcf6t7af2se71-xcf6t7af2se71.fdash-audio_0_131900.m4a\n",
      "[download] 100% of 606.93KiB in 00:00                  \n",
      "[ffmpeg] Merging formats into \"xcf6t7af2se71-xcf6t7af2se71.mp4\"\n",
      "Deleting original file xcf6t7af2se71-xcf6t7af2se71.fdash-video_2421476.mp4 (pass -k to keep)\n",
      "Deleting original file xcf6t7af2se71-xcf6t7af2se71.fdash-audio_0_131900.m4a (pass -k to keep)\n",
      "[Reddit] xj7hysqpvpe71: Downloading m3u8 information\n",
      "[Reddit] xj7hysqpvpe71: Downloading MPD manifest\n",
      "[download] Destination: xj7hysqpvpe71-xj7hysqpvpe71.fdash-video_2410178.mp4\n",
      "[download] 100% of 19.64MiB in 00:00                  \n",
      "[download] Destination: xj7hysqpvpe71-xj7hysqpvpe71.fdash-audio_0_131672.m4a\n",
      "[download] 100% of 1.07MiB in 00:00                  \n",
      "[ffmpeg] Merging formats into \"xj7hysqpvpe71-xj7hysqpvpe71.mp4\"\n",
      "Deleting original file xj7hysqpvpe71-xj7hysqpvpe71.fdash-video_2410178.mp4 (pass -k to keep)\n",
      "Deleting original file xj7hysqpvpe71-xj7hysqpvpe71.fdash-audio_0_131672.m4a (pass -k to keep)\n",
      "[Reddit] z4lxpp2tgoe71: Downloading m3u8 information\n",
      "[Reddit] z4lxpp2tgoe71: Downloading MPD manifest\n",
      "[hlsnative] Downloading m3u8 manifest\n",
      "[hlsnative] Total fragments: 4\n",
      "[download] Destination: z4lxpp2tgoe71-z4lxpp2tgoe71.mp4\n",
      "[download] 100% of 2.07MiB in 00:00                   \n",
      "[Reddit] z40o3z6poqe71: Downloading m3u8 information\n",
      "[Reddit] z40o3z6poqe71: Downloading MPD manifest\n",
      "[download] Destination: z40o3z6poqe71-z40o3z6poqe71.fdash-video_1616623.mp4\n",
      "[download] 100% of 3.08MiB in 00:00                  \n",
      "[download] Destination: z40o3z6poqe71-z40o3z6poqe71.fdash-audio_0_101137.m4a\n",
      "[download] 100% of 197.87KiB in 00:00                  \n",
      "[ffmpeg] Merging formats into \"z40o3z6poqe71-z40o3z6poqe71.mp4\"\n",
      "Deleting original file z40o3z6poqe71-z40o3z6poqe71.fdash-video_1616623.mp4 (pass -k to keep)\n",
      "Deleting original file z40o3z6poqe71-z40o3z6poqe71.fdash-audio_0_101137.m4a (pass -k to keep)\n",
      "[Reddit] dyusqbkgyre71: Downloading m3u8 information\n",
      "[Reddit] dyusqbkgyre71: Downloading MPD manifest\n",
      "[download] Destination: dyusqbkgyre71-dyusqbkgyre71.fdash-video_2396264.mp4\n",
      "[download] 100% of 11.90MiB in 00:01                  \n",
      "[download] Destination: dyusqbkgyre71-dyusqbkgyre71.fdash-audio_0_132256.m4a\n",
      "[download] 100% of 673.12KiB in 00:00                  \n",
      "[ffmpeg] Merging formats into \"dyusqbkgyre71-dyusqbkgyre71.mp4\"\n",
      "Deleting original file dyusqbkgyre71-dyusqbkgyre71.fdash-video_2396264.mp4 (pass -k to keep)\n"
     ]
    },
    {
     "name": "stdout",
     "output_type": "stream",
     "text": [
      "Deleting original file dyusqbkgyre71-dyusqbkgyre71.fdash-audio_0_132256.m4a (pass -k to keep)\n"
     ]
    }
   ],
   "source": [
    "ydl_opts = {} \n",
    "  \n",
    "def dwl_vid(): \n",
    "    with youtube_dl.YoutubeDL(ydl_opts) as ydl: \n",
    "        ydl.download([zxt]) \n",
    "  \n",
    "for link in url_list:\n",
    "    zxt = link.strip()\n",
    "    dwl_vid()"
   ]
  },
  {
   "cell_type": "code",
   "execution_count": 17,
   "metadata": {},
   "outputs": [
    {
     "ename": "AttributeError",
     "evalue": "'dict' object has no attribute 'params'",
     "output_type": "error",
     "traceback": [
      "\u001b[1;31m---------------------------------------------------------------------------\u001b[0m",
      "\u001b[1;31mAttributeError\u001b[0m                            Traceback (most recent call last)",
      "\u001b[1;32m<ipython-input-17-36f4ffdfa89d>\u001b[0m in \u001b[0;36m<module>\u001b[1;34m\u001b[0m\n\u001b[0;32m      1\u001b[0m \u001b[0mydl_opts\u001b[0m \u001b[1;33m=\u001b[0m \u001b[1;33m{\u001b[0m\u001b[1;33m}\u001b[0m\u001b[1;33m\u001b[0m\u001b[1;33m\u001b[0m\u001b[0m\n\u001b[1;32m----> 2\u001b[1;33m \u001b[0myoutube_dl\u001b[0m\u001b[1;33m.\u001b[0m\u001b[0mYoutubeDL\u001b[0m\u001b[1;33m.\u001b[0m\u001b[0mdownload\u001b[0m\u001b[1;33m(\u001b[0m\u001b[0mydl_opts\u001b[0m\u001b[1;33m,\u001b[0m \u001b[0murl_list\u001b[0m\u001b[1;33m)\u001b[0m\u001b[1;33m\u001b[0m\u001b[1;33m\u001b[0m\u001b[0m\n\u001b[0m",
      "\u001b[1;32m~\\anaconda3\\lib\\site-packages\\youtube_dl\\YoutubeDL.py\u001b[0m in \u001b[0;36mdownload\u001b[1;34m(self, url_list)\u001b[0m\n\u001b[0;32m   2006\u001b[0m     \u001b[1;32mdef\u001b[0m \u001b[0mdownload\u001b[0m\u001b[1;33m(\u001b[0m\u001b[0mself\u001b[0m\u001b[1;33m,\u001b[0m \u001b[0murl_list\u001b[0m\u001b[1;33m)\u001b[0m\u001b[1;33m:\u001b[0m\u001b[1;33m\u001b[0m\u001b[1;33m\u001b[0m\u001b[0m\n\u001b[0;32m   2007\u001b[0m         \u001b[1;34m\"\"\"Download a given list of URLs.\"\"\"\u001b[0m\u001b[1;33m\u001b[0m\u001b[1;33m\u001b[0m\u001b[0m\n\u001b[1;32m-> 2008\u001b[1;33m         \u001b[0mouttmpl\u001b[0m \u001b[1;33m=\u001b[0m \u001b[0mself\u001b[0m\u001b[1;33m.\u001b[0m\u001b[0mparams\u001b[0m\u001b[1;33m.\u001b[0m\u001b[0mget\u001b[0m\u001b[1;33m(\u001b[0m\u001b[1;34m'outtmpl'\u001b[0m\u001b[1;33m,\u001b[0m \u001b[0mDEFAULT_OUTTMPL\u001b[0m\u001b[1;33m)\u001b[0m\u001b[1;33m\u001b[0m\u001b[1;33m\u001b[0m\u001b[0m\n\u001b[0m\u001b[0;32m   2009\u001b[0m         if (len(url_list) > 1\n\u001b[0;32m   2010\u001b[0m                 \u001b[1;32mand\u001b[0m \u001b[0mouttmpl\u001b[0m \u001b[1;33m!=\u001b[0m \u001b[1;34m'-'\u001b[0m\u001b[1;33m\u001b[0m\u001b[1;33m\u001b[0m\u001b[0m\n",
      "\u001b[1;31mAttributeError\u001b[0m: 'dict' object has no attribute 'params'"
     ]
    }
   ],
   "source": [
    "ydl_opts = {}\n",
    "youtube_dl.YoutubeDL.download(ydl_opts, url_list) "
   ]
  },
  {
   "cell_type": "code",
   "execution_count": 26,
   "metadata": {},
   "outputs": [
    {
     "data": {
      "text/plain": [
       "['Ohio State Senator, using a Zoom background of his home office while driving, debating a bill for harsher penalties for distracted driving.',\n",
       " \"A bunch of idiots thought that the hard shoulder was the exit lane and started piling up behind a truck... who's telling them?\",\n",
       " 'Customer stated, her turn signal is broke (xpost from r/justrolledintotheshop)',\n",
       " 'They added a roundabout near my hometown in rural, eastern Kentucky. Here is an example of how NOT to use a roundabout...',\n",
       " 'Ever wonder what creates traffic? This guy.']"
      ]
     },
     "execution_count": 26,
     "metadata": {},
     "output_type": "execute_result"
    }
   ],
   "source": [
    "list(output_df['Title'])"
   ]
  },
  {
   "cell_type": "code",
   "execution_count": null,
   "metadata": {},
   "outputs": [],
   "source": []
  }
 ],
 "metadata": {
  "kernelspec": {
   "display_name": "Python 3",
   "language": "python",
   "name": "python3"
  },
  "language_info": {
   "codemirror_mode": {
    "name": "ipython",
    "version": 3
   },
   "file_extension": ".py",
   "mimetype": "text/x-python",
   "name": "python",
   "nbconvert_exporter": "python",
   "pygments_lexer": "ipython3",
   "version": "3.7.6"
  }
 },
 "nbformat": 4,
 "nbformat_minor": 4
}
